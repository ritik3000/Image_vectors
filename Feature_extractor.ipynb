{
  "nbformat": 4,
  "nbformat_minor": 0,
  "metadata": {
    "colab": {
      "name": "nounphrase_extractor.ipynb",
      "provenance": [],
      "include_colab_link": true
    },
    "kernelspec": {
      "name": "python3",
      "display_name": "Python 3"
    }
  },
  "cells": [
    {
      "cell_type": "markdown",
      "metadata": {
        "id": "view-in-github",
        "colab_type": "text"
      },
      "source": [
        "<a href=\"https://colab.research.google.com/github/ritik3000/Image_vectors/blob/main/Feature_extractor.ipynb\" target=\"_parent\"><img src=\"https://colab.research.google.com/assets/colab-badge.svg\" alt=\"Open In Colab\"/></a>"
      ]
    },
    {
      "cell_type": "code",
      "metadata": {
        "id": "nDEYrf7jL8bJ"
      },
      "source": [
        "from google.colab import drive\n",
        "drive.mount('/content/drive')"
      ],
      "execution_count": null,
      "outputs": []
    },
    {
      "cell_type": "code",
      "metadata": {
        "id": "jp1qrhZ9L_ps"
      },
      "source": [
        "import pandas as pd\n",
        "import numpy as np\n",
        "import json\n"
      ],
      "execution_count": null,
      "outputs": []
    },
    {
      "cell_type": "code",
      "metadata": {
        "id": "Y8O5nqc5MBAa"
      },
      "source": [
        "import pickle\n",
        "pickle_in = open(\"/content/drive/My Drive/head.pickle\",\"rb\")\n",
        "df = pickle.load(pickle_in)"
      ],
      "execution_count": null,
      "outputs": []
    },
    {
      "cell_type": "code",
      "metadata": {
        "id": "c4fckSGHMJsC"
      },
      "source": [
        "my_sheet=pd.read_csv('/content/drive/My Drive/tyroo_taxonomy_map.csv')"
      ],
      "execution_count": null,
      "outputs": []
    },
    {
      "cell_type": "code",
      "metadata": {
        "id": "-aZVS_JWMXPv",
        "colab": {
          "base_uri": "https://localhost:8080/",
          "height": 170
        },
        "outputId": "5cc2186b-d625-4753-b537-0758561af0b7"
      },
      "source": [
        "import nltk\n",
        "nltk.download('brown')\n",
        "import nltk\n",
        "nltk.download('punkt')\n",
        "import nltk\n",
        "nltk.download('averaged_perceptron_tagger')"
      ],
      "execution_count": null,
      "outputs": [
        {
          "output_type": "stream",
          "text": [
            "[nltk_data] Downloading package brown to /root/nltk_data...\n",
            "[nltk_data]   Package brown is already up-to-date!\n",
            "[nltk_data] Downloading package punkt to /root/nltk_data...\n",
            "[nltk_data]   Package punkt is already up-to-date!\n",
            "[nltk_data] Downloading package averaged_perceptron_tagger to\n",
            "[nltk_data]     /root/nltk_data...\n",
            "[nltk_data]   Package averaged_perceptron_tagger is already up-to-\n",
            "[nltk_data]       date!\n"
          ],
          "name": "stdout"
        },
        {
          "output_type": "execute_result",
          "data": {
            "text/plain": [
              "True"
            ]
          },
          "metadata": {
            "tags": []
          },
          "execution_count": 52
        }
      ]
    },
    {
      "cell_type": "code",
      "metadata": {
        "id": "0ddstLZWMqZH"
      },
      "source": [
        "def textBlob_feature_extraction(text): \n",
        "        blob = TextBlob(text)\n",
        "        return blob.noun_phrases"
      ],
      "execution_count": null,
      "outputs": []
    },
    {
      "cell_type": "code",
      "metadata": {
        "id": "7Ey1VIBsMwtM"
      },
      "source": [
        "def main_phrase(a):  \n",
        "  z=textBlob_feature_extraction(df.iloc[a]['title'])\n",
        "  y=textBlob_feature_extraction(df.iloc[a]['description'])\n",
        "  arr=[]\n",
        "  for i in range(0,len(z)):\n",
        "    for j in range(0,len(y)):\n",
        "      arr.append((z[i],y[j],fuzz.token_sort_ratio(z[i],y[j])))\n",
        "      arr.sort(key = lambda x: x[2],reverse=True)\n",
        "      arr=arr[:3] \n",
        "  return arr\n"
      ],
      "execution_count": null,
      "outputs": []
    },
    {
      "cell_type": "code",
      "metadata": {
        "id": "T5nOFoiCNrEW"
      },
      "source": [
        "def extract_NN(sent):\n",
        "    grammar = r\"\"\"\n",
        "    NBAR:\n",
        "        # Nouns and Adjectives, terminated with Nouns\n",
        "        {<JJ>*<NN.*>*<NN.*>}\n",
        "\n",
        "    NP:\n",
        "        {<NBAR>}\n",
        "        # Above, connected with in/of/etc...\n",
        "        {<NBAR><IN><NBAR>}\n",
        "    \"\"\"\n",
        "    chunker = nltk.RegexpParser(grammar)\n",
        "    ne = set()\n",
        "    chunk = chunker.parse(nltk.pos_tag(nltk.word_tokenize(sent)))\n",
        "    for tree in chunk.subtrees(filter=lambda t: t.label() == 'NP'):\n",
        "        ne.add(' '.join([child[0] for child in tree.leaves()]))\n",
        "    return ne"
      ],
      "execution_count": null,
      "outputs": []
    },
    {
      "cell_type": "code",
      "metadata": {
        "id": "0B_DDdiEOb0E"
      },
      "source": [
        "ff=df[df['category_3']=='Pants']\n",
        "pf=ff[:20]"
      ],
      "execution_count": null,
      "outputs": []
    },
    {
      "cell_type": "code",
      "metadata": {
        "id": "MWDcs462N0ne"
      },
      "source": [
        "arr=[]\n",
        "for i in range(0,len(pf)):\n",
        "  a=pf.iloc[i]['title'].rfind('-')\n",
        "  arr.append(pf.iloc[i]['title'][0:a])\n",
        "noun_phrases=[]\n",
        "for i in range(0,len(arr)):\n",
        "  noun_phrases.append(extract_NN(arr[i]))\n",
        "final=[]\n",
        "for i in range(0,len(noun_phrases)):\n",
        "  final.append(max(noun_phrases[i]))\n"
      ],
      "execution_count": null,
      "outputs": []
    },
    {
      "cell_type": "code",
      "metadata": {
        "id": "5mcUJeWpOKO6",
        "colab": {
          "base_uri": "https://localhost:8080/",
          "height": 119
        },
        "outputId": "47d2653b-505e-4c27-dcbf-baca191a7466"
      },
      "source": [
        "pf['final_np']=final"
      ],
      "execution_count": null,
      "outputs": [
        {
          "output_type": "stream",
          "text": [
            "/usr/local/lib/python3.6/dist-packages/ipykernel_launcher.py:1: SettingWithCopyWarning: \n",
            "A value is trying to be set on a copy of a slice from a DataFrame.\n",
            "Try using .loc[row_indexer,col_indexer] = value instead\n",
            "\n",
            "See the caveats in the documentation: http://pandas.pydata.org/pandas-docs/stable/user_guide/indexing.html#returning-a-view-versus-a-copy\n",
            "  \"\"\"Entry point for launching an IPython kernel.\n"
          ],
          "name": "stderr"
        }
      ]
    },
    {
      "cell_type": "code",
      "metadata": {
        "id": "1dbHyYZTOsNy"
      },
      "source": [
        ""
      ],
      "execution_count": null,
      "outputs": []
    },
    {
      "cell_type": "code",
      "metadata": {
        "id": "JJU-nK14N5uF"
      },
      "source": [
        "fp=pf[['title','description','final_np','category_3']]\n",
        "  "
      ],
      "execution_count": null,
      "outputs": []
    },
    {
      "cell_type": "code",
      "metadata": {
        "id": "O26MRukTOtKM",
        "colab": {
          "base_uri": "https://localhost:8080/",
          "height": 130
        },
        "outputId": "1e35b87a-db93-4319-ae75-128d5b99473a"
      },
      "source": [
        "def func(df):\n",
        "  p=0\n",
        "  brand_name=df[0]['brand']\n",
        "  for i in range(0,len(df)):\n",
        "    y=max(df[i]['discount_percentage'],y)\n",
        "    if(df[i]['brand']==brand_name):\n",
        "      p+=1\n",
        "  if y>=30:\n",
        "  \tprint(\"upto \"+ str(y) + \"% off\")\n",
        "  elif(p==len(df)):\n",
        "    print(\"exclusive offer on \"+str(brand_name))\n",
        "  elif\n",
        "    \n",
        "\n"
      ],
      "execution_count": null,
      "outputs": [
        {
          "output_type": "error",
          "ename": "SyntaxError",
          "evalue": "ignored",
          "traceback": [
            "\u001b[0;36m  File \u001b[0;32m\"<ipython-input-40-79334c54019c>\"\u001b[0;36m, line \u001b[0;32m1\u001b[0m\n\u001b[0;31m    def func(df.iloc):\u001b[0m\n\u001b[0m               ^\u001b[0m\n\u001b[0;31mSyntaxError\u001b[0m\u001b[0;31m:\u001b[0m invalid syntax\n"
          ]
        }
      ]
    },
    {
      "cell_type": "code",
      "metadata": {
        "id": "oC4hXgdaPFT2"
      },
      "source": [
        ""
      ],
      "execution_count": null,
      "outputs": []
    },
    {
      "cell_type": "code",
      "metadata": {
        "id": "Bvl03hY6PF7M"
      },
      "source": [
        ""
      ],
      "execution_count": null,
      "outputs": []
    },
    {
      "cell_type": "code",
      "metadata": {
        "id": "dlAu_EuKPNx1"
      },
      "source": [
        "lp=df.to_dict(orient='record')"
      ],
      "execution_count": null,
      "outputs": []
    },
    {
      "cell_type": "code",
      "metadata": {
        "id": "8fDyQKRyPTlE",
        "colab": {
          "base_uri": "https://localhost:8080/",
          "height": 547
        },
        "outputId": "4a26e6b2-e1a2-4b9e-c75a-c5c433e16101"
      },
      "source": [
        "lp[1]"
      ],
      "execution_count": null,
      "outputs": [
        {
          "output_type": "execute_result",
          "data": {
            "text/plain": [
              "{'account_id': 2277,\n",
              " 'brand': 'Havaianas',\n",
              " 'category_1': 'Apparel & Accessories',\n",
              " 'category_2': 'Shoes',\n",
              " 'category_3': 'Athletic Shoes & Sneakers',\n",
              " 'color': 'Red',\n",
              " 'description': \"Brazil's original and authentic flip-flops, designed for adults in 1998 to celebrate Brazil's part in the World Cup, are now adapted for toddlers, this red colored flip flops from Havaianas with a strap around the heel to better secure the foot.\",\n",
              " 'discount_percentage': 0.0,\n",
              " 'features': ['brazil logo',\n",
              "  'greek key pattern',\n",
              "  'strap flip flops',\n",
              "  'red',\n",
              "  'original',\n",
              "  'authentic',\n",
              "  'flip',\n",
              "  'flops',\n",
              "  'part',\n",
              "  'world',\n",
              "  'toddlers',\n",
              "  'red',\n",
              "  'colored',\n",
              "  'flip flops',\n",
              "  'havaianas',\n",
              "  'strap',\n",
              "  'heel',\n",
              "  'secure',\n",
              "  'foot'],\n",
              " 'gender': 'male',\n",
              " 'sku_id': '4140577-APRICOT',\n",
              " 'title': 'Brazil Logo with Greek Key Pattern Strap Flip Flops - Red'}"
            ]
          },
          "metadata": {
            "tags": []
          },
          "execution_count": 46
        }
      ]
    },
    {
      "cell_type": "code",
      "metadata": {
        "id": "zgI_sAKNR-MP",
        "colab": {
          "base_uri": "https://localhost:8080/",
          "height": 589
        },
        "outputId": "055d08bf-a61e-4761-ae74-35d7dfae5c29"
      },
      "source": [
        "my_sheet"
      ],
      "execution_count": null,
      "outputs": [
        {
          "output_type": "execute_result",
          "data": {
            "text/html": [
              "<div>\n",
              "<style scoped>\n",
              "    .dataframe tbody tr th:only-of-type {\n",
              "        vertical-align: middle;\n",
              "    }\n",
              "\n",
              "    .dataframe tbody tr th {\n",
              "        vertical-align: top;\n",
              "    }\n",
              "\n",
              "    .dataframe thead th {\n",
              "        text-align: right;\n",
              "    }\n",
              "</style>\n",
              "<table border=\"1\" class=\"dataframe\">\n",
              "  <thead>\n",
              "    <tr style=\"text-align: right;\">\n",
              "      <th></th>\n",
              "      <th>affinity_category</th>\n",
              "      <th>category_1</th>\n",
              "      <th>category_2</th>\n",
              "      <th>category_3</th>\n",
              "      <th>category_4</th>\n",
              "      <th>category_5</th>\n",
              "      <th>category_6</th>\n",
              "      <th>category_7</th>\n",
              "    </tr>\n",
              "  </thead>\n",
              "  <tbody>\n",
              "    <tr>\n",
              "      <th>0</th>\n",
              "      <td>Animals &amp; Pet Supplies</td>\n",
              "      <td>Animals &amp; Pet Supplies</td>\n",
              "      <td>NaN</td>\n",
              "      <td>NaN</td>\n",
              "      <td>NaN</td>\n",
              "      <td>NaN</td>\n",
              "      <td>NaN</td>\n",
              "      <td>NaN</td>\n",
              "    </tr>\n",
              "    <tr>\n",
              "      <th>1</th>\n",
              "      <td>Live Animals</td>\n",
              "      <td>Animals &amp; Pet Supplies</td>\n",
              "      <td>Live Animals</td>\n",
              "      <td>NaN</td>\n",
              "      <td>NaN</td>\n",
              "      <td>NaN</td>\n",
              "      <td>NaN</td>\n",
              "      <td>NaN</td>\n",
              "    </tr>\n",
              "    <tr>\n",
              "      <th>2</th>\n",
              "      <td>Pet Supplies</td>\n",
              "      <td>Animals &amp; Pet Supplies</td>\n",
              "      <td>Pet Supplies</td>\n",
              "      <td>NaN</td>\n",
              "      <td>NaN</td>\n",
              "      <td>NaN</td>\n",
              "      <td>NaN</td>\n",
              "      <td>NaN</td>\n",
              "    </tr>\n",
              "    <tr>\n",
              "      <th>3</th>\n",
              "      <td>Bird Supplies</td>\n",
              "      <td>Animals &amp; Pet Supplies</td>\n",
              "      <td>Pet Supplies</td>\n",
              "      <td>Bird Supplies</td>\n",
              "      <td>NaN</td>\n",
              "      <td>NaN</td>\n",
              "      <td>NaN</td>\n",
              "      <td>NaN</td>\n",
              "    </tr>\n",
              "    <tr>\n",
              "      <th>4</th>\n",
              "      <td>Bird Cage Accessories</td>\n",
              "      <td>Animals &amp; Pet Supplies</td>\n",
              "      <td>Pet Supplies</td>\n",
              "      <td>Bird Supplies</td>\n",
              "      <td>Bird Cage Accessories</td>\n",
              "      <td>NaN</td>\n",
              "      <td>NaN</td>\n",
              "      <td>NaN</td>\n",
              "    </tr>\n",
              "    <tr>\n",
              "      <th>...</th>\n",
              "      <td>...</td>\n",
              "      <td>...</td>\n",
              "      <td>...</td>\n",
              "      <td>...</td>\n",
              "      <td>...</td>\n",
              "      <td>...</td>\n",
              "      <td>...</td>\n",
              "      <td>...</td>\n",
              "    </tr>\n",
              "    <tr>\n",
              "      <th>6211</th>\n",
              "      <td>Watercraft Fuel Tanks &amp; Parts</td>\n",
              "      <td>Vehicles &amp; Parts</td>\n",
              "      <td>Vehicle Parts &amp; Accessories</td>\n",
              "      <td>Watercraft Parts &amp; Accessories</td>\n",
              "      <td>Watercraft Fuel Systems</td>\n",
              "      <td>Watercraft Fuel Tanks &amp; Parts</td>\n",
              "      <td>NaN</td>\n",
              "      <td>NaN</td>\n",
              "    </tr>\n",
              "    <tr>\n",
              "      <th>6212</th>\n",
              "      <td>Watercraft Lighting</td>\n",
              "      <td>Vehicles &amp; Parts</td>\n",
              "      <td>Vehicle Parts &amp; Accessories</td>\n",
              "      <td>Watercraft Parts &amp; Accessories</td>\n",
              "      <td>Watercraft Lighting</td>\n",
              "      <td>NaN</td>\n",
              "      <td>NaN</td>\n",
              "      <td>NaN</td>\n",
              "    </tr>\n",
              "    <tr>\n",
              "      <th>6213</th>\n",
              "      <td>Watercraft Steering Parts</td>\n",
              "      <td>Vehicles &amp; Parts</td>\n",
              "      <td>Vehicle Parts &amp; Accessories</td>\n",
              "      <td>Watercraft Parts &amp; Accessories</td>\n",
              "      <td>Watercraft Steering Parts</td>\n",
              "      <td>NaN</td>\n",
              "      <td>NaN</td>\n",
              "      <td>NaN</td>\n",
              "    </tr>\n",
              "    <tr>\n",
              "      <th>6214</th>\n",
              "      <td>Watercraft Steering Cables</td>\n",
              "      <td>Vehicles &amp; Parts</td>\n",
              "      <td>Vehicle Parts &amp; Accessories</td>\n",
              "      <td>Watercraft Parts &amp; Accessories</td>\n",
              "      <td>Watercraft Steering Parts</td>\n",
              "      <td>Watercraft Steering Cables</td>\n",
              "      <td>NaN</td>\n",
              "      <td>NaN</td>\n",
              "    </tr>\n",
              "    <tr>\n",
              "      <th>6215</th>\n",
              "      <td>Watercraft Steering Wheels</td>\n",
              "      <td>Vehicles &amp; Parts</td>\n",
              "      <td>Vehicle Parts &amp; Accessories</td>\n",
              "      <td>Watercraft Parts &amp; Accessories</td>\n",
              "      <td>Watercraft Steering Parts</td>\n",
              "      <td>Watercraft Steering Wheels</td>\n",
              "      <td>NaN</td>\n",
              "      <td>NaN</td>\n",
              "    </tr>\n",
              "  </tbody>\n",
              "</table>\n",
              "<p>6216 rows × 8 columns</p>\n",
              "</div>"
            ],
            "text/plain": [
              "                  affinity_category  ... category_7\n",
              "0            Animals & Pet Supplies  ...        NaN\n",
              "1                      Live Animals  ...        NaN\n",
              "2                      Pet Supplies  ...        NaN\n",
              "3                     Bird Supplies  ...        NaN\n",
              "4             Bird Cage Accessories  ...        NaN\n",
              "...                             ...  ...        ...\n",
              "6211  Watercraft Fuel Tanks & Parts  ...        NaN\n",
              "6212            Watercraft Lighting  ...        NaN\n",
              "6213      Watercraft Steering Parts  ...        NaN\n",
              "6214     Watercraft Steering Cables  ...        NaN\n",
              "6215     Watercraft Steering Wheels  ...        NaN\n",
              "\n",
              "[6216 rows x 8 columns]"
            ]
          },
          "metadata": {
            "tags": []
          },
          "execution_count": 47
        }
      ]
    },
    {
      "cell_type": "code",
      "metadata": {
        "id": "xvT7ElzXV-xk"
      },
      "source": [
        "import nltk\n",
        "from nltk.stem import WordNetLemmatizer \n",
        "\n",
        "# Init the Wordnet Lemmatizer\n",
        "lemmatizer = WordNetLemmatizer()"
      ],
      "execution_count": null,
      "outputs": []
    },
    {
      "cell_type": "code",
      "metadata": {
        "id": "Pqq-_O8Lne5U",
        "colab": {
          "base_uri": "https://localhost:8080/",
          "height": 51
        },
        "outputId": "2a4a27b8-c5d1-4607-b141-1ab4b20b0101"
      },
      "source": [
        "def()\n",
        "word_list = nltk.word_tokenize(df.iloc[0]['title'])\n",
        "print(word_list)\n",
        "#> ['The', 'striped', 'bats', 'are', 'hanging', 'on', 'their', 'feet', 'for', 'best']\n",
        "\n",
        "# Lemmatize list of words and join\n",
        "lemmatized_output = ' '.join([lemmatizer.lemmatize(w) for w in word_list])\n",
        "print(lemmatized_output)"
      ],
      "execution_count": null,
      "outputs": [
        {
          "output_type": "stream",
          "text": [
            "['Brand', 'Logo', 'Printed', 'Strap', 'Round', 'Toe', 'Flip', 'Flops', '-', 'Blue']\n",
            "Brand Logo Printed Strap Round Toe Flip Flops - Blue\n"
          ],
          "name": "stdout"
        }
      ]
    },
    {
      "cell_type": "code",
      "metadata": {
        "id": "O4o7JEgan1Uu",
        "colab": {
          "base_uri": "https://localhost:8080/",
          "height": 68
        },
        "outputId": "b1e22ec3-a07b-4002-a167-3fb1bec72033"
      },
      "source": [
        "import nltk\n",
        "nltk.download('wordnet')"
      ],
      "execution_count": null,
      "outputs": [
        {
          "output_type": "stream",
          "text": [
            "[nltk_data] Downloading package wordnet to /root/nltk_data...\n",
            "[nltk_data]   Unzipping corpora/wordnet.zip.\n"
          ],
          "name": "stdout"
        },
        {
          "output_type": "execute_result",
          "data": {
            "text/plain": [
              "True"
            ]
          },
          "metadata": {
            "tags": []
          },
          "execution_count": 64
        }
      ]
    },
    {
      "cell_type": "code",
      "metadata": {
        "id": "KMsSHpG2n4jz"
      },
      "source": [
        "from nltk.corpus import stopwords \n",
        "from nltk.stem.wordnet import WordNetLemmatizer\n",
        "import string\n",
        "stop = set(stopwords.words('english'))\n",
        "exclude = set(string.punctuation) \n",
        "lemma = WordNetLemmatizer()\n",
        "def clean(doc):\n",
        "     stop_free = \" \".join([i for i in doc.lower().split() if i not in stop])\n",
        "     punc_free = ''.join(ch for ch in stop_free if ch not in exclude)\n",
        "     normalized = \" \".join(lemma.lemmatize(word) for word in punc_free.split())\n",
        "     return normalized"
      ],
      "execution_count": null,
      "outputs": []
    },
    {
      "cell_type": "code",
      "metadata": {
        "id": "SmcCY1-GqTfe",
        "colab": {
          "base_uri": "https://localhost:8080/",
          "height": 68
        },
        "outputId": "b89bda8d-cf68-46c6-b6f3-e4d1115d4a5c"
      },
      "source": [
        "import nltk\n",
        "nltk.download('stopwords')"
      ],
      "execution_count": null,
      "outputs": [
        {
          "output_type": "stream",
          "text": [
            "[nltk_data] Downloading package stopwords to /root/nltk_data...\n",
            "[nltk_data]   Unzipping corpora/stopwords.zip.\n"
          ],
          "name": "stdout"
        },
        {
          "output_type": "execute_result",
          "data": {
            "text/plain": [
              "True"
            ]
          },
          "metadata": {
            "tags": []
          },
          "execution_count": 67
        }
      ]
    },
    {
      "cell_type": "code",
      "metadata": {
        "id": "3M6YpSzcqhlI"
      },
      "source": [
        "y=clean(df.iloc[3]['title'])"
      ],
      "execution_count": null,
      "outputs": []
    },
    {
      "cell_type": "code",
      "metadata": {
        "id": "z0uZQWvxqqWj",
        "colab": {
          "base_uri": "https://localhost:8080/",
          "height": 34
        },
        "outputId": "b1d97351-9331-4a5f-a0ae-222f4516d2d0"
      },
      "source": [
        "y"
      ],
      "execution_count": null,
      "outputs": [
        {
          "output_type": "execute_result",
          "data": {
            "text/plain": [
              "'short sleeve striped pattern lurex fashion knit dress blue'"
            ]
          },
          "metadata": {
            "tags": []
          },
          "execution_count": 73
        }
      ]
    },
    {
      "cell_type": "code",
      "metadata": {
        "id": "HTQBbA-mqq-V",
        "colab": {
          "base_uri": "https://localhost:8080/",
          "height": 34
        },
        "outputId": "9b9a2ea1-ff7e-4e06-dd62-c97f47db6e52"
      },
      "source": [
        "extract_NN(y)"
      ],
      "execution_count": null,
      "outputs": [
        {
          "output_type": "execute_result",
          "data": {
            "text/plain": [
              "{'pattern lurex fashion knit dress blue', 'short sleeve'}"
            ]
          },
          "metadata": {
            "tags": []
          },
          "execution_count": 74
        }
      ]
    },
    {
      "cell_type": "code",
      "metadata": {
        "id": "D0FhKa4Oqy5g"
      },
      "source": [
        ""
      ],
      "execution_count": null,
      "outputs": []
    }
  ]
}